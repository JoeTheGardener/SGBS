{
 "cells": [
  {
   "cell_type": "code",
   "execution_count": 1,
   "metadata": {},
   "outputs": [],
   "source": [
    "import pandas as pd\n",
    "import numpy as np\n",
    "import math\n",
    "from matplotlib import pyplot as plt\n",
    "from scipy import stats\n",
    "import seaborn as sns"
   ]
  },
  {
   "cell_type": "code",
   "execution_count": 2,
   "metadata": {},
   "outputs": [
    {
     "data": {
      "text/html": [
       "<div>\n",
       "<style scoped>\n",
       "    .dataframe tbody tr th:only-of-type {\n",
       "        vertical-align: middle;\n",
       "    }\n",
       "\n",
       "    .dataframe tbody tr th {\n",
       "        vertical-align: top;\n",
       "    }\n",
       "\n",
       "    .dataframe thead th {\n",
       "        text-align: right;\n",
       "    }\n",
       "</style>\n",
       "<table border=\"1\" class=\"dataframe\">\n",
       "  <thead>\n",
       "    <tr style=\"text-align: right;\">\n",
       "      <th></th>\n",
       "      <th>t</th>\n",
       "    </tr>\n",
       "  </thead>\n",
       "  <tbody>\n",
       "    <tr>\n",
       "      <td>0</td>\n",
       "      <td>1.366967</td>\n",
       "    </tr>\n",
       "    <tr>\n",
       "      <td>1</td>\n",
       "      <td>0.065920</td>\n",
       "    </tr>\n",
       "    <tr>\n",
       "      <td>2</td>\n",
       "      <td>0.968358</td>\n",
       "    </tr>\n",
       "    <tr>\n",
       "      <td>3</td>\n",
       "      <td>0.174096</td>\n",
       "    </tr>\n",
       "    <tr>\n",
       "      <td>4</td>\n",
       "      <td>0.889502</td>\n",
       "    </tr>\n",
       "  </tbody>\n",
       "</table>\n",
       "</div>"
      ],
      "text/plain": [
       "          t\n",
       "0  1.366967\n",
       "1  0.065920\n",
       "2  0.968358\n",
       "3  0.174096\n",
       "4  0.889502"
      ]
     },
     "execution_count": 2,
     "metadata": {},
     "output_type": "execute_result"
    }
   ],
   "source": [
    "data = pd.read_csv('data/likelihood_blogVisits.csv', names=['t'])\n",
    "data.head() "
   ]
  },
  {
   "cell_type": "markdown",
   "metadata": {},
   "source": [
    "### Problem 4.1.4. \n",
    "**You collect data from Google Analytics that contains the time (in minutes) between each visit for a sample of 50 randomly chosen visits to your blog. The data set is called likelihood_blogVisits.csv, derive an estimate for the mean number of visits per minute**\n",
    "\n",
    "---\n",
    "\n",
    "We model the time between first time visits (FTVs) using an exponential distribution. In this case the maximum likelihood estimate (MLE) of the $\\lambda$ parameter is given by the reciprocal of the average time between events: $$\\frac{1}{\\bar{t}}$$"
   ]
  },
  {
   "cell_type": "code",
   "execution_count": 3,
   "metadata": {},
   "outputs": [
    {
     "name": "stdout",
     "output_type": "stream",
     "text": [
      "MLE given data is 1.63 visits per time period\n"
     ]
    }
   ],
   "source": [
    "mle = 1 / data['t'].mean()\n",
    "print(f'MLE given data is {mle:.2f} visits per time period')"
   ]
  },
  {
   "cell_type": "markdown",
   "metadata": {},
   "source": [
    "### Problem 4.1.5.\n",
    "**Graph the log-likelihood near the MLE.**"
   ]
  },
  {
   "cell_type": "code",
   "execution_count": 4,
   "metadata": {},
   "outputs": [
    {
     "data": {
      "image/png": "[encoded data removed]",
      "text/plain": [
       "<Figure size 432x288 with 1 Axes>"
      ]
     },
     "metadata": {
      "needs_background": "light"
     },
     "output_type": "display_data"
    }
   ],
   "source": [
    "times = list(data['t'])\n",
    "lambdas = np.linspace(0.01, 10, 999)\n",
    "\n",
    "# function for calculating probability density ot t given lambda\n",
    "def exponential_pdf(t, lambd):\n",
    "    p = lambd * math.exp(-lambd * t)\n",
    "    return p\n",
    "\n",
    "# calculate log-likelihoods\n",
    "likelihoods = []\n",
    "for lambd in lambdas:\n",
    "    probs = [exponential_pdf(t, lambd) for t in times]\n",
    "    loglike = sum(map(math.log, probs))\n",
    "    likelihoods.append(loglike)\n",
    "\n",
    "# grab maximum likelihood estimate from all likelihoods\n",
    "mle_idx = np.argmax(np.array(likelihoods))\n",
    "\n",
    "# plot\n",
    "plt.plot(lambdas, likelihoods)\n",
    "plt.plot(lambdas[mle_idx], likelihoods[mle_idx], 'ko')\n",
    "plt.xlabel('$\\lambda$')\n",
    "plt.ylabel('log-likelihood')\n",
    "plt.show();"
   ]
  },
  {
   "cell_type": "markdown",
   "metadata": {},
   "source": [
    "### Problem 4.1.8.\n",
    "**Using you maximum likelihood estimate, what is the probability you will wait:**\n",
    "\n",
    "- 1 minute or more\n",
    "- 5 minutes or more\n",
    "- 30 minutes or more\n",
    "\n",
    "---\n",
    "\n",
    "We find the probability of waiting greater than a given time $t$ by first finding the value of the cumulative distribution function (cdf) for that time when $\\lambda$ is equal to our maximum likelihood estimate (1.63). This is the equivalent of finding the integral of the pdf between 0 and $t$, which gives us the probability of waiting $t$ minutes or less. We then obtain the complement of this value to get the probability of waiting $t$ minutes or more."
   ]
  },
  {
   "cell_type": "code",
   "execution_count": 6,
   "metadata": {},
   "outputs": [
    {
     "name": "stdout",
     "output_type": "stream",
     "text": [
      "The probability of waiting more that 1 minutes is 0.1967\n",
      "The probability of waiting more that 5 minutes is 0.0003\n",
      "The probability of waiting more that 30 minutes is 0.0000\n"
     ]
    }
   ],
   "source": [
    "for t in [1, 5, 30]:\n",
    "    # use scipy method to get cdf of exponential dist for t with lambda given by MLE\n",
    "    p = stats.expon.cdf(t, scale = 1/mle)\n",
    "    complement = 1 - p\n",
    "    print(f'The probability of waiting more that {t} minutes is {complement:.4f}')"
   ]
  },
  {
   "cell_type": "markdown",
   "metadata": {},
   "source": [
    "### Problem 4.1.9.\n",
    "**Evaluate your model**\n",
    "\n",
    "---\n",
    "\n",
    "We evaluate the model by comparing predicted values to observed values! (use histograms?)"
   ]
  },
  {
   "cell_type": "code",
   "execution_count": 35,
   "metadata": {},
   "outputs": [
    {
     "data": {
      "text/plain": [
       "<matplotlib.axes._subplots.AxesSubplot at 0x7f4fd5d74c88>"
      ]
     },
     "execution_count": 35,
     "metadata": {},
     "output_type": "execute_result"
    },
    {
     "data": {
      "image/png": "[encoded data removed]",
      "text/plain": [
       "<Figure size 432x288 with 1 Axes>"
      ]
     },
     "metadata": {
      "needs_background": "light"
     },
     "output_type": "display_data"
    }
   ],
   "source": [
    "simulated_data = stats.expon.rvs(scale= 1 / mle, size=10000, random_state=88)\n",
    "# horrible unreadable line to get one bin per minute up to max minutes observed / simulated\n",
    "bins = list(range(max(math.ceil(max(simulated_data)), math.ceil(max(data['t'])))))\n",
    "sns.distplot(simulated_data, kde=False, norm_hist=True, bins = bins)\n",
    "sns.distplot(data['t'], kde=False, norm_hist=True, bins = bins)"
   ]
  }
 ],
 "metadata": {
  "kernelspec": {
   "display_name": "Python 3",
   "language": "python",
   "name": "python3"
  },
  "language_info": {
   "codemirror_mode": {
    "name": "ipython",
    "version": 3
   },
   "file_extension": ".py",
   "mimetype": "text/x-python",
   "name": "python",
   "nbconvert_exporter": "python",
   "pygments_lexer": "ipython3",
   "version": "3.6.8"
  }
 },
 "nbformat": 4,
 "nbformat_minor": 2
}
