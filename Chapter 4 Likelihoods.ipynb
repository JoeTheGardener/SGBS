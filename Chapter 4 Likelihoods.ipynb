{
 "cells": [
  {
   "cell_type": "code",
   "execution_count": 75,
   "metadata": {},
   "outputs": [],
   "source": [
    "import pandas as pd\n",
    "import numpy as np\n",
    "import math\n",
    "from matplotlib import pyplot as plt"
   ]
  },
  {
   "cell_type": "code",
   "execution_count": 8,
   "metadata": {},
   "outputs": [
    {
     "data": {
      "text/html": [
       "<div>\n",
       "<style scoped>\n",
       "    .dataframe tbody tr th:only-of-type {\n",
       "        vertical-align: middle;\n",
       "    }\n",
       "\n",
       "    .dataframe tbody tr th {\n",
       "        vertical-align: top;\n",
       "    }\n",
       "\n",
       "    .dataframe thead th {\n",
       "        text-align: right;\n",
       "    }\n",
       "</style>\n",
       "<table border=\"1\" class=\"dataframe\">\n",
       "  <thead>\n",
       "    <tr style=\"text-align: right;\">\n",
       "      <th></th>\n",
       "      <th>t</th>\n",
       "    </tr>\n",
       "  </thead>\n",
       "  <tbody>\n",
       "    <tr>\n",
       "      <th>0</th>\n",
       "      <td>1.366967</td>\n",
       "    </tr>\n",
       "    <tr>\n",
       "      <th>1</th>\n",
       "      <td>0.065920</td>\n",
       "    </tr>\n",
       "    <tr>\n",
       "      <th>2</th>\n",
       "      <td>0.968358</td>\n",
       "    </tr>\n",
       "    <tr>\n",
       "      <th>3</th>\n",
       "      <td>0.174096</td>\n",
       "    </tr>\n",
       "    <tr>\n",
       "      <th>4</th>\n",
       "      <td>0.889502</td>\n",
       "    </tr>\n",
       "  </tbody>\n",
       "</table>\n",
       "</div>"
      ],
      "text/plain": [
       "          t\n",
       "0  1.366967\n",
       "1  0.065920\n",
       "2  0.968358\n",
       "3  0.174096\n",
       "4  0.889502"
      ]
     },
     "execution_count": 8,
     "metadata": {},
     "output_type": "execute_result"
    }
   ],
   "source": [
    "data = pd.read_csv('data/likelihood_blogVisits.csv.', names=['t'])\n",
    "data.head() "
   ]
  },
  {
   "cell_type": "markdown",
   "metadata": {},
   "source": [
    "### Problem 4.1.4. \n",
    "**You collect data from Google Analytics that contains the time (in minutes) be-tween each visit for a sample of 50 randomly chosen visits to your blog. The data set is called likelihood_blogVisits.csv, derive an estimate for the mean number of visits per minute**\n",
    "\n",
    "We model the time between first time visits (FTVs) using an exponential distribution. In this case the maximum likelihood estimate (MLE) of the $\\lambda$ parameter is given by the reciprocal of the average time between events: $$\\frac{1}{\\bar{t}}$$"
   ]
  },
  {
   "cell_type": "code",
   "execution_count": 95,
   "metadata": {},
   "outputs": [
    {
     "name": "stdout",
     "output_type": "stream",
     "text": [
      "MLE given data is 1.63 visits per time period\n"
     ]
    }
   ],
   "source": [
    "mle = 1 / data['t'].mean()\n",
    "print(f'MLE given data is {mle:.2f} visits per time period')"
   ]
  },
  {
   "cell_type": "markdown",
   "metadata": {},
   "source": [
    "### Problem 4.1.5.\n",
    "**Graph the log-likelihood near the MLE.**"
   ]
  },
  {
   "cell_type": "code",
   "execution_count": 111,
   "metadata": {},
   "outputs": [
    {
     "data": {
      "image/png": "[encoded data removed]",
      "text/plain": [
       "<Figure size 432x288 with 1 Axes>"
      ]
     },
     "metadata": {
      "needs_background": "light"
     },
     "output_type": "display_data"
    }
   ],
   "source": [
    "times = list(data['t'])\n",
    "lambdas = np.linspace(0.01, 10, 999)\n",
    "\n",
    "# function for calculating probability density ot t given lambda\n",
    "def exponential_pdf(t, lambd):\n",
    "    p = lambd * math.exp(-lambd * t)\n",
    "    return p\n",
    "\n",
    "# calculate log-likelihoods\n",
    "likelihoods = []\n",
    "for lambd in lambdas:\n",
    "    probs = [exponential_pdf(t, lambd) for t in times]\n",
    "    loglike = sum(map(math.log, probs))\n",
    "    likelihoods.append(loglike)\n",
    "\n",
    "# grab maximum likelihood estimate from all likelihoods\n",
    "mle_idx = np.argmax(np.array(likelihoods))\n",
    "\n",
    "# plot\n",
    "plt.plot(lambdas, likelihoods)\n",
    "plt.plot(lambdas[mle_idx], likelihoods[mle_idx], 'ko')\n",
    "plt.xlabel('$\\lambda$')\n",
    "plt.ylabel('log-likelihood')\n",
    "plt.show();"
   ]
  }
 ],
 "metadata": {
  "kernelspec": {
   "display_name": "Python 3",
   "language": "python",
   "name": "python3"
  },
  "language_info": {
   "codemirror_mode": {
    "name": "ipython",
    "version": 3
   },
   "file_extension": ".py",
   "mimetype": "text/x-python",
   "name": "python",
   "nbconvert_exporter": "python",
   "pygments_lexer": "ipython3",
   "version": "3.7.0"
  }
 },
 "nbformat": 4,
 "nbformat_minor": 2
}
